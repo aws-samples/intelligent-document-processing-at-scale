{
 "cells": [
  {
   "cell_type": "code",
   "execution_count": null,
   "id": "45ed1cb8-c5e3-4436-996d-345aaad640cb",
   "metadata": {
    "tags": []
   },
   "outputs": [],
   "source": [
    "!pip3 install boto3 boto3_helpers pynamodb"
   ]
  },
  {
   "cell_type": "code",
   "execution_count": null,
   "id": "14095b89-1094-4b42-b3dd-392f8d38d806",
   "metadata": {
    "tags": []
   },
   "outputs": [],
   "source": [
    "import logging\n",
    "import boto3\n",
    "import time\n",
    "from boto3.dynamodb.types import TypeDeserializer\n",
    "from botocore.config import Config\n",
    "from pynamodb.models import Model\n",
    "from pynamodb.attributes import UnicodeAttribute, NumberAttribute\n",
    "import threading\n",
    "from threading import Lock"
   ]
  },
  {
   "cell_type": "code",
   "execution_count": null,
   "id": "ec6635f8-491a-4e06-aa7d-c85f7edf3707",
   "metadata": {},
   "outputs": [],
   "source": [
    "# Update to your input and output bucket names\n",
    "_tracking_table = \"s3ObjectNamesforTextract\"\n",
    "_input_bucket = \"mybucket-testfiles-fewer\"\n",
    "_input_prefix = \"\"\n",
    "_output_bucket = \"mybucket-testfiles-fewer-out\"\n",
    "\n",
    "threadCountforTextractAPICall = 20  # Number of threads used to call Textract\n",
    "dynamoDBMaxlistCount = 200  # Max number of rows to pull at a time from DynamoDB"
   ]
  },
  {
   "cell_type": "code",
   "execution_count": null,
   "id": "ddc5bdfb-5eae-4314-ad9f-de026ebc5073",
   "metadata": {
    "tags": []
   },
   "outputs": [],
   "source": [
    "logger = logging.getLogger(__name__)\n",
    "config = Config(retries = {'max_attempts': 10,'mode': 'adaptive'})\n",
    "\n",
    "dbDynoSelect = f\"SELECT objectName, bucketName FROM \\\"{_tracking_table}\\\" WHERE txJobId=?\"\n",
    "dbDynoUpdate = f\"UPDATE \\\"{_tracking_table}\\\" SET txJobId=?, outputbucketName=? WHERE objectName=? AND bucketName=?\"\n",
    "\n",
    "deserializer = TypeDeserializer()\n",
    "\n",
    "s3_client = boto3.client('s3', config=config)\n",
    "db = boto3.resource('dynamodb', config=config)\n",
    "ddb = boto3.client('dynamodb', config=config)\n",
    "txract = boto3.client('textract', config=config)\n"
   ]
  },
  {
   "cell_type": "code",
   "execution_count": null,
   "id": "6d22886f-4e33-486d-9c21-37ea24d578ed",
   "metadata": {
    "tags": []
   },
   "outputs": [],
   "source": [
    "# used for listing our S3 objects\n",
    "class S3Profile:\n",
    "    def __init__(self, bucketName, prefixName):\n",
    "        self.bucketName = bucketName\n",
    "        self.prefixName = prefixName\n",
    "        self.s3_client = boto3.client('s3')\n",
    "        self.profile_object_list = []\n",
    "        paginator = self.s3_client.get_paginator('list_objects_v2')\n",
    "        pages = paginator.paginate(Bucket=self.bucketName, Prefix=self.prefixName)\n",
    "        try:\n",
    "            for page in pages:\n",
    "                for content in page.get('Contents'):\n",
    "                    file = content.get('Key')\n",
    "                    self.profile_object_list.append({\"fileObj\": file})\n",
    "        except Exception as e:\n",
    "            print(\"Error, most likely caused by either invalid bucket name or invalid prefix name\")\n",
    "            logger.error(e)        "
   ]
  },
  {
   "cell_type": "code",
   "execution_count": null,
   "id": "1f43f840-e879-49b0-8a2f-d01d9077b8a1",
   "metadata": {
    "tags": []
   },
   "outputs": [],
   "source": [
    "# this is our DB table model for storing Objects that we send to Textract\n",
    "class DocumentObjStatusModel(Model):\n",
    "    class Meta:\n",
    "        table_name = _tracking_table\n",
    "        region = boto3.Session().region_name\n",
    "    objectName = UnicodeAttribute(hash_key=True)\n",
    "    bucketName = UnicodeAttribute(null=True)\n",
    "    createDate = NumberAttribute(null=True)\n",
    "    outputbucketName = UnicodeAttribute(null=True)\n",
    "    txJobId = UnicodeAttribute(null=True)"
   ]
  },
  {
   "cell_type": "code",
   "execution_count": null,
   "id": "d78421d9-fbf9-411c-9172-e73e928bb603",
   "metadata": {
    "tags": []
   },
   "outputs": [],
   "source": [
    "# Created DynamoDB Table\n",
    "if not DocumentObjStatusModel.exists():\n",
    "    print(\"creating DynamoDB table \" + _tracking_table + \" in \" \n",
    "          + boto3.Session().region_name + \" for tracking\")\n",
    "    # create the table, wait for it to finish creating\n",
    "    DocumentObjStatusModel.create_table(read_capacity_units=150,\n",
    "                                        write_capacity_units=150,\n",
    "                                        wait=True)\n",
    "    print(\"DynamoDB table \" + _tracking_table + \" created\")\n",
    "else:\n",
    "    print(\"Table already exists\")"
   ]
  },
  {
   "cell_type": "code",
   "execution_count": null,
   "id": "ebec4424-56e7-40ea-bdf4-9ec5e6cb69d8",
   "metadata": {
    "tags": []
   },
   "outputs": [],
   "source": [
    "# this is where we want to get a list of objects from and store in the DynamDB table\n",
    "s3_profile = S3Profile(_input_bucket, _input_prefix)"
   ]
  },
  {
   "cell_type": "code",
   "execution_count": null,
   "id": "a0436394-3aec-4487-b9df-ce546670eb74",
   "metadata": {
    "tags": []
   },
   "outputs": [],
   "source": [
    "# update our DynamoDB table with the names of the files we have scanned\n",
    "counter = 0\n",
    "for item in s3_profile.profile_object_list:\n",
    "    DocumentObjStatusModel(\n",
    "        objectName=item['fileObj'],\n",
    "        bucketName=_input_bucket,\n",
    "        createDate=round(time.time() * 1000),\n",
    "        outputbucketName='',\n",
    "        txJobId='').save()\n",
    "    counter += 1\n",
    "    # commented out, this is can be overly verbose\n",
    "    # print(f'{counter} ' + item['fileObj'])\n",
    "print(f'{counter} files saved to DynamoDB')"
   ]
  },
  {
   "cell_type": "code",
   "execution_count": null,
   "id": "b73b06bc-25fe-4687-9165-ec88f41648ff",
   "metadata": {
    "tags": []
   },
   "outputs": [],
   "source": [
    "# custom class, wrapping a list in order to make it thread safe\n",
    "class FileNameObjectsThreadSafeList():\n",
    "    def __init__(self):\n",
    "        self._list = list()\n",
    "        self._lock = Lock()\n",
    "\n",
    "    def append(self, value):\n",
    "        with self._lock:\n",
    "            self._list.append(value)\n",
    "\n",
    "    def pop(self):\n",
    "        with self._lock:\n",
    "            response = self._list.pop()\n",
    "            return response\n",
    "\n",
    "    def length(self):\n",
    "        with self._lock:\n",
    "            return len(self._list)"
   ]
  },
  {
   "cell_type": "code",
   "execution_count": null,
   "id": "9dc18e44-ecbb-4ed6-8b74-03925249efc7",
   "metadata": {},
   "outputs": [],
   "source": [
    "# go and get rows from DynamoDB that contain our object names so that they can be sent to Textract\n",
    "def getFilesToSendToTextractfromDynamoDB():\n",
    "\n",
    "    results = []\n",
    "\n",
    "    \"\"\"Query DynamoDB Table for object names and stop when reached max count\"\"\"\n",
    "    try:\n",
    "        ddbresponse = ddb.execute_statement(Statement=dbDynoSelect, Limit=500, Parameters=[{'S': \"\"}])\n",
    "        while 'NextToken' in ddbresponse and len(results) < dynamoDBMaxlistCount:\n",
    "            for record in ddbresponse['Items']:\n",
    "                deserialized_document = {k: deserializer.deserialize(v) for k, v in record.items()}\n",
    "                results.append(deserialized_document)\n",
    "                if len(results) == dynamoDBMaxlistCount:\n",
    "                    break\n",
    "            ddbresponse = ddb.execute_statement(Statement=dbDynoSelect, Limit=500, NextToken=ddbresponse['NextToken'], Parameters=[{'S': \"\"}])\n",
    "        if (len(results) < dynamoDBMaxlistCount):\n",
    "            for record in ddbresponse['Items']:\n",
    "                deserialized_document = {k: deserializer.deserialize(v) for k, v in record.items()}\n",
    "                results.append(deserialized_document)\n",
    "                if len(results) == dynamoDBMaxlistCount:\n",
    "                    break\n",
    "\n",
    "        return results\n",
    "\n",
    "    except Exception as e:\n",
    "        logger.error(e)\n",
    "        return 1"
   ]
  },
  {
   "cell_type": "code",
   "execution_count": null,
   "id": "519defd3-fc21-46f8-87fa-39479ddf5337",
   "metadata": {},
   "outputs": [],
   "source": [
    "# this function runs in its own thread and calls the Textract API with the Object Name retrieved from DynamoDB\n",
    "def procestTextractFunction(fileList):\n",
    "    while fileList.length() > 0:\n",
    "        try:\n",
    "            record = fileList.pop()\n",
    "            response = txract.start_document_text_detection(\n",
    "                DocumentLocation={\n",
    "                    'S3Object': {\n",
    "                    'Bucket': record['bucketName'],\n",
    "                    'Name': record['objectName']\n",
    "                }},\n",
    "                OutputConfig={\n",
    "                    'S3Bucket': _output_bucket\n",
    "                })\n",
    "\n",
    "            \"\"\"Update the DynamoDB table with the JobId of the Textract call\"\"\"\n",
    "            ddb.execute_statement(Statement=dbDynoUpdate, Parameters=[{'S': response[\"JobId\"]}, {'S': _output_bucket}, {'S': record['objectName']}, {'S': record['bucketName']}])\n",
    "\n",
    "        except Exception as e:\n",
    "            logger.error(e)\n",
    "            print(e.response)\n",
    "            print(record)\n",
    "            \"\"\"update the DynamoDB table with a -1 for the JobId and an empty string for the output bucket name Swallow exception and continue, a retry for this file will occur next time row is retrived from DynamoDB\"\"\"\n",
    "            ddb.execute_statement(Statement=dbDynoUpdate, Parameters=[{'S': '-1'}, {'S': ''}, {'S': record['objectName']}, {'S': record['bucketName']}])"
   ]
  },
  {
   "cell_type": "code",
   "execution_count": null,
   "id": "2f4ad627-d6c6-494d-98b1-2cb9e6b3ebf3",
   "metadata": {
    "tags": []
   },
   "outputs": [],
   "source": [
    "# main function that retrieves rows from DynamoDB, stores in a list, and spins up multiple threads that calls Textract with this information\n",
    "def orchestrate():\n",
    "    totalCount = 0\n",
    "\n",
    "    fileList = FileNameObjectsThreadSafeList()\n",
    "\n",
    "    \"\"\"Fetch max rows from DynamoDB and Initialize in memory list\"\"\"\n",
    "    results = getFilesToSendToTextractfromDynamoDB()\n",
    "    totalCount += len(results)\n",
    "    print(\"Starting process of sending files to Textract\")\n",
    "    while len(results) > 0:\n",
    "        for record in results:  # put these records into our thread safe list\n",
    "            fileList.append(record)\n",
    "\n",
    "        \"\"\"create our threads for processing Textract\"\"\"\n",
    "        threadsforTextractAPI = [threading.Thread(name=\"Thread - \" + str(i), target=procestTextractFunction, args=(fileList,)) for i in range(threadCountforTextractAPICall)]    \n",
    "\n",
    "        \"\"\"start up threads for processing Textract\"\"\"\n",
    "        for thread in threadsforTextractAPI:\n",
    "            thread.start()\n",
    "\n",
    "        \"\"\"wait for threads to complete\"\"\"\n",
    "        for thread in threadsforTextractAPI:\n",
    "            thread.join()\n",
    "\n",
    "            \"\"\"Get more rows from DynamoDB and repeat until no more rows\"\"\"\n",
    "        results = getFilesToSendToTextractfromDynamoDB()\n",
    "        totalCount += len(results)\n",
    "\n",
    "    print(\"Finished sending \" + str(totalCount) + \" files to Textract\")\n"
   ]
  },
  {
   "cell_type": "code",
   "execution_count": null,
   "id": "8505d823-3b6d-437e-8f0f-eabc32220f88",
   "metadata": {
    "tags": []
   },
   "outputs": [],
   "source": [
    "# kick of orchestration of Textract API calls.\n",
    "now = time.perf_counter()\n",
    "orchestrate()\n",
    "print(f\"completed in - {time.perf_counter()-now} seconds\")"
   ]
  },
  {
   "cell_type": "code",
   "execution_count": null,
   "id": "b73f1888-3743-496a-baaf-3d65bcaf8011",
   "metadata": {},
   "outputs": [],
   "source": []
  }
 ],
 "metadata": {
  "kernelspec": {
   "display_name": "conda_python3",
   "language": "python",
   "name": "conda_python3"
  },
  "language_info": {
   "codemirror_mode": {
    "name": "ipython",
    "version": 3
   },
   "file_extension": ".py",
   "mimetype": "text/x-python",
   "name": "python",
   "nbconvert_exporter": "python",
   "pygments_lexer": "ipython3",
   "version": "3.10.10"
  }
 },
 "nbformat": 4,
 "nbformat_minor": 5
}
